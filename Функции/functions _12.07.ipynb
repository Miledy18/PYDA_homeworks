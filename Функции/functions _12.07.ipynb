{
 "cells": [
  {
   "cell_type": "markdown",
   "metadata": {},
   "source": [
    "Вы работаете секретарем и вам постоянно приходят различные документы. Вы должны быть очень внимательны, чтобы не потерять ни один документ. Каталог документов хранится в следующем виде:"
   ]
  },
  {
   "cell_type": "code",
   "execution_count": null,
   "metadata": {},
   "outputs": [],
   "source": [
    "documents = [\n",
    "    {'type': 'passport', 'number': '2207 876234', 'name': 'Василий Гупкин'},\n",
    "    {'type': 'invoice', 'number': '11-2', 'name': 'Геннадий Покемонов'},\n",
    "    {'type': 'insurance', 'number': '10006', 'name': 'Аристарх Павлов'}\n",
    "]"
   ]
  },
  {
   "cell_type": "markdown",
   "metadata": {},
   "source": [
    "Перечень полок, на которых находятся документы хранится в следующем виде:"
   ]
  },
  {
   "cell_type": "code",
   "execution_count": 81,
   "metadata": {},
   "outputs": [],
   "source": [
    "directories = {\n",
    "    '1': ['2207 876234', '11-2'],\n",
    "    '2': ['10006'],\n",
    "    '3': []\n",
    "}"
   ]
  },
  {
   "cell_type": "markdown",
   "metadata": {},
   "source": [
    "Необходимо реализовать пользовательские команды (внимание! это не название функций, которые должны быть выразительными, а команды, которые вводит пользователь, чтобы получить необходимый результат):\n",
    "  \n",
    "- p – people – команда, которая спросит номер документа и выведет имя человека, которому он принадлежит;  \n",
    "- s – shelf – команда, которая спросит номер документа и выведет номер полки, на которой он находится  \n",
    "*Правильно обработайте ситуации, когда пользователь будет вводить несуществующий документ*.\n",
    "- l – list – команда, которая выведет список всех документов в формате   \n",
    "**passport \"2207 876234\" \"Василий Гупкин\"**  \n",
    "- as – add shelf – команда, которая спросит номер новой полки и добавит ее в перечень. *Предусмотрите случай, когда пользователь добавляет полку, которая уже существует*.\n",
    "- d – delete – команда, которая спросит номер документа и удалит его из каталога и из перечня полок. *Предусмотрите сценарий, когда пользователь вводит несуществующий документ*;  \n",
    "- m – move – команда, которая спросит номер документа и целевую полку и переместит его с текущей полки на целевую. *Корректно обработайте кейсы, когда пользователь пытается переместить несуществующий документ или переместить документ на несуществующую полку*;  \n",
    "- a – add – команда, которая добавит новый документ в каталог и в перечень полок, спросив его номер, тип, имя владельца и номер полки, на котором он будет храниться. *Корректно обработайте ситуацию, когда пользователь будет пытаться добавить документ на несуществующую полку*."
   ]
  },
  {
   "cell_type": "code",
   "execution_count": 94,
   "metadata": {},
   "outputs": [],
   "source": [
    "documents = [\n",
    "    {'type': 'passport', 'number': '2207 876234', 'name': 'Василий Гупкин'},\n",
    "    {'type': 'invoice', 'number': '11-2', 'name': 'Геннадий Покемонов'},\n",
    "    {'type': 'insurance', 'number': '10006', 'name': 'Аристарх Павлов'},\n",
    "    {'type': 'inn', 'number': '13', 'name': 'Фрося Иванова'},\n",
    "    {'type': 'snils', 'number': '6', 'name': 'Гоша Петров'}\n",
    "]"
   ]
  },
  {
   "cell_type": "code",
   "execution_count": 95,
   "metadata": {},
   "outputs": [],
   "source": [
    " directories = {\n",
    "    '1': ['2207 876234', '11-2'],\n",
    "    '2': ['10006'],\n",
    "    '3': ['13', '6']\n",
    "}"
   ]
  },
  {
   "cell_type": "code",
   "execution_count": 85,
   "metadata": {},
   "outputs": [
    {
     "name": "stdout",
     "output_type": "stream",
     "text": [
      "Введите номер документа 6\n",
      "Гоша Петров\n"
     ]
    }
   ],
   "source": [
    "def people(documents):\n",
    "    user_input = input('Введите номер документа ')\n",
    "  \n",
    "    for doc in documents:\n",
    "        if user_input == doc['number']:\n",
    "            print(doc['name'])\n",
    "            \n",
    "people(documents)"
   ]
  },
  {
   "cell_type": "code",
   "execution_count": 101,
   "metadata": {},
   "outputs": [
    {
     "name": "stdout",
     "output_type": "stream",
     "text": [
      "Введите номер документа 6\n",
      "Полка хранения:  3\n"
     ]
    }
   ],
   "source": [
    "def shelf(directories):\n",
    "    user_input = input('Введите номер документа ')\n",
    "    for shelf, docs in directories.items():\n",
    "        if user_input in docs:\n",
    "            print('Полка хранения: ', shelf)\n",
    "            return \n",
    "    else:\n",
    "        print('Документа с таким номером нет на хранении')\n",
    "shelf(directories)"
   ]
  },
  {
   "cell_type": "code",
   "execution_count": 87,
   "metadata": {},
   "outputs": [
    {
     "name": "stdout",
     "output_type": "stream",
     "text": [
      "passport\"2207 876234\"Василий Гупкин\n",
      "invoice\"11-2\"Геннадий Покемонов\n",
      "insurance\"10006\"Аристарх Павлов\n",
      "inn\"13\"Фрося Иванова\n",
      "snils\"6\"Гоша Петров\n"
     ]
    }
   ],
   "source": [
    "def m_list(documents):\n",
    "    for doc in documents:\n",
    "        l = []\n",
    "        for value in doc.values():\n",
    "            l.append(value)\n",
    "        print('\"'.join(l))\n",
    "m_list(documents)"
   ]
  },
  {
   "cell_type": "code",
   "execution_count": 88,
   "metadata": {},
   "outputs": [
    {
     "name": "stdout",
     "output_type": "stream",
     "text": [
      "Введите номер новой полки 23\n",
      "Полка добавлена  {'1': ['2207 876234', '11-2'], '2': ['10006'], '3': ['13', '6'], '23': []}\n"
     ]
    }
   ],
   "source": [
    "def add_shelf(directories):\n",
    "    user_input = input('Введите номер новой полки ')\n",
    "    if user_input in directories.keys():\n",
    "        print('Полка с таким номером уже существует')\n",
    "    else:\n",
    "        directories[user_input] = []\n",
    "        print('Полка добавлена ', directories) \n",
    "add_shelf(directories)"
   ]
  },
  {
   "cell_type": "code",
   "execution_count": 89,
   "metadata": {},
   "outputs": [
    {
     "name": "stdout",
     "output_type": "stream",
     "text": [
      "Введите номер документа 10006\n",
      "Документ удален\n"
     ]
    },
    {
     "data": {
      "text/plain": [
       "([{'type': 'passport', 'number': '2207 876234', 'name': 'Василий Гупкин'},\n",
       "  {'type': 'invoice', 'number': '11-2', 'name': 'Геннадий Покемонов'},\n",
       "  {'type': 'inn', 'number': '13', 'name': 'Фрося Иванова'},\n",
       "  {'type': 'snils', 'number': '6', 'name': 'Гоша Петров'}],\n",
       " {'1': ['2207 876234', '11-2'], '2': [], '3': ['13', '6'], '23': []})"
      ]
     },
     "execution_count": 89,
     "metadata": {},
     "output_type": "execute_result"
    }
   ],
   "source": [
    "def delete (documents, directories):\n",
    "    user_input = input('Введите номер документа ')\n",
    "    l = []\n",
    "    for value in directories.values():\n",
    "        l += value\n",
    "    if user_input not in l:\n",
    "        print('Документа с таким номером не существует')\n",
    "        return\n",
    "    for doc in documents:\n",
    "        if user_input == doc['number']:\n",
    "            documents.remove(doc)\n",
    "    for value in directories.values():\n",
    "        if user_input in value:\n",
    "            value.remove(user_input)\n",
    "    print('Документ удален')\n",
    "    return documents, directories\n",
    "delete (documents, directories)"
   ]
  },
  {
   "cell_type": "code",
   "execution_count": 90,
   "metadata": {},
   "outputs": [
    {
     "name": "stdout",
     "output_type": "stream",
     "text": [
      "Введите номер документа 13\n",
      "Текущая полка хранения: 3\n",
      "Хотите переместить документ? Введите номер целевой полки 2\n",
      "Документ перемещен на целевую полку\n",
      "{'1': ['2207 876234', '11-2'], '2': ['13'], '3': ['6'], '23': []}\n"
     ]
    }
   ],
   "source": [
    "def move(directories):\n",
    "    user_in_doc = input('Введите номер документа ')\n",
    "    \n",
    "    for shelf, docs in directories.items():\n",
    "        if user_in_doc in docs:\n",
    "            print('Текущая полка хранения: '+ shelf)\n",
    "    l = []\n",
    "    for docs in directories.values():\n",
    "        l += docs\n",
    "    if user_in_doc not in l:\n",
    "        print('Документа с таким номером не существует')\n",
    "        return \n",
    "    user_in_shelf = input('Хотите переместить документ? Введите номер целевой полки ')\n",
    "    if user_in_shelf not in directories.keys():\n",
    "        print('Полки с таким номером не существует')\n",
    "        directories[user_in_shelf] = []\n",
    "        print(f'Полка {user_in_shelf} добавлена ') \n",
    "    for docs in directories.values():\n",
    "        if user_in_doc in docs:\n",
    "            docs.remove(user_in_doc)\n",
    "            directories[user_in_shelf].append(user_in_doc)\n",
    "    print('Документ перемещен на целевую полку')\n",
    "    print(directories)\n",
    "move(directories)"
   ]
  },
  {
   "cell_type": "code",
   "execution_count": 109,
   "metadata": {},
   "outputs": [
    {
     "name": "stdout",
     "output_type": "stream",
     "text": [
      "Введите номер НОВОГО документа 56\n",
      "Введите тип документа r\n",
      "Введите имя владельца документа K L\n",
      "[{'type': 'passport', 'number': '2207 876234', 'name': 'Василий Гупкин'}, {'type': 'insurance', 'number': '10006', 'name': 'Аристарх Павлов'}, {'type': 'inn', 'number': '13', 'name': 'Фрося Иванова'}, {'type': 'snils', 'number': '6', 'name': 'Гоша Петров'}, {'type': 'order', 'number': '78', 'name': 'Kris Nick'}, {'type': 'r', 'number': '56', 'name': 'K L'}]\n",
      "Введите номер полки для хранения 2\n",
      "Документ размещен на указзанную полку {'1': ['2207 876234', '78'], '2': ['56'], '3': ['13', '6'], '7': ['10006']}\n"
     ]
    }
   ],
   "source": [
    "def add (documents, directories):\n",
    "    user_in_doc = input('Введите номер НОВОГО документа ')\n",
    "    \n",
    "    l = []\n",
    "    for docs in directories.values():\n",
    "        l += docs\n",
    "    if user_in_doc in l:\n",
    "        print('Документа с таким номером УЖЕ существует')\n",
    "        return \n",
    "    \n",
    "    user_in_type = input('Введите тип документа ')\n",
    "    user_in_own = input('Введите имя владельца документа ')\n",
    "    \n",
    "    user_dict = {'type': user_in_type, 'number': user_in_doc, 'name': user_in_own}\n",
    "    documents.append(user_dict)\n",
    "    print(documents)\n",
    "    \n",
    "    user_in_shelf = input('Введите номер полки для хранения ')\n",
    "    if user_in_shelf not in directories.keys():\n",
    "        directories[user_in_shelf] = [user_in_doc]\n",
    "        print('Документ размещен во вновь созданной полке ', directories) \n",
    "    else:\n",
    "        directories[user_in_shelf].append(user_in_doc)\n",
    "        print('Документ размещен на указзанную полку', directories) \n",
    "add (documents, directories)"
   ]
  },
  {
   "cell_type": "code",
   "execution_count": 107,
   "metadata": {},
   "outputs": [
    {
     "name": "stdout",
     "output_type": "stream",
     "text": [
      "Введите команду a\n",
      "Введите номер НОВОГО документа 78\n",
      "Введите тип документа order\n",
      "Введите имя владельца документа Kris Nick\n",
      "[{'type': 'passport', 'number': '2207 876234', 'name': 'Василий Гупкин'}, {'type': 'insurance', 'number': '10006', 'name': 'Аристарх Павлов'}, {'type': 'inn', 'number': '13', 'name': 'Фрося Иванова'}, {'type': 'snils', 'number': '6', 'name': 'Гоша Петров'}, {'type': 'order', 'number': '78', 'name': 'Kris Nick'}]\n",
      "Введите номер полки для хранения 1\n",
      "{'1': ['2207 876234', '78'], '2': [], '3': ['13', '6'], '7': ['10006']}\n"
     ]
    }
   ],
   "source": [
    "user_command = input('Введите команду ')\n",
    "if user_command == 'p':\n",
    "    people(documents)\n",
    "elif user_command == 's':\n",
    "    shelf(directories)\n",
    "elif user_command == 'l':\n",
    "    m_list(documents)\n",
    "elif user_command == 'as':\n",
    "    add_shelf(directories)\n",
    "elif user_command == 'd':\n",
    "    delete (documents, directories)\n",
    "elif user_command == 'm':\n",
    "    move(directories) \n",
    "elif user_command == 'a':\n",
    "    add (documents, directories)"
   ]
  },
  {
   "cell_type": "code",
   "execution_count": null,
   "metadata": {},
   "outputs": [],
   "source": []
  },
  {
   "cell_type": "code",
   "execution_count": null,
   "metadata": {},
   "outputs": [],
   "source": []
  },
  {
   "cell_type": "code",
   "execution_count": null,
   "metadata": {},
   "outputs": [],
   "source": []
  }
 ],
 "metadata": {
  "kernelspec": {
   "display_name": "Python 3",
   "language": "python",
   "name": "python3"
  },
  "language_info": {
   "codemirror_mode": {
    "name": "ipython",
    "version": 3
   },
   "file_extension": ".py",
   "mimetype": "text/x-python",
   "name": "python",
   "nbconvert_exporter": "python",
   "pygments_lexer": "ipython3",
   "version": "3.7.6"
  }
 },
 "nbformat": 4,
 "nbformat_minor": 2
}
