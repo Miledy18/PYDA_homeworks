{
 "cells": [
  {
   "cell_type": "markdown",
   "metadata": {},
   "source": [
    "**Задача 1**. Дано слово из латинских букв. Напишите скрипт, который выводит на экран букву из середины слова (если число букв нечетное). Если букв четное число, то на экран выводятся две буквы из середины.  \n",
    "\n",
    "Пример: для 'test' должно выводится 'es', для 'testing' - 't'"
   ]
  },
  {
   "cell_type": "code",
   "execution_count": 11,
   "metadata": {},
   "outputs": [
    {
     "name": "stdout",
     "output_type": "stream",
     "text": [
      "Введите слово из латиских букв: papar\n",
      "papar слово из нечетного числа букв\n",
      "p центральная буква слова\n"
     ]
    }
   ],
   "source": [
    "word = input ('Введите слово из латиских букв: ') \n",
    "if len(word)%2 == 0:\n",
    "    print(word, 'слово из четного числа букв')\n",
    "    middle = int(len(word)/2)\n",
    "    print(word[middle-1:middle+1], 'центральные буквы слова')\n",
    "else: \n",
    "    print(word, 'слово из нечетного числа букв')\n",
    "    middle = int(len(word)/2)\n",
    "    print(word[middle], 'центральная буква слова')  \n"
   ]
  },
  {
   "cell_type": "markdown",
   "metadata": {},
   "source": [
    "**Задача 2**. Мы делаем MVP dating-сервиса, и у нас есть список парней и девушек (их число может варьироваться):"
   ]
  },
  {
   "cell_type": "code",
   "execution_count": 9,
   "metadata": {},
   "outputs": [],
   "source": [
    "boys = ['Peter', 'Alex', 'John', 'Arthur', 'Richard']\n",
    "girls = ['Kate', 'Liza', 'Kira', 'Emma', 'Trisha']"
   ]
  },
  {
   "cell_type": "markdown",
   "metadata": {},
   "source": [
    "Выдвигаем гипотезу: лучшие рекомендации мы получим, если просто отсортируем имена по алфавиту и познакомим людей с одинаковыми индексами после сортировки! \"Познакомить\" пары нам поможет функция zip, а в цикле распакуем zip-объект и выведем информацию в виде:\n",
    "\n",
    "Идеальные пары:  \n",
    "Alex и Emma  \n",
    "Arthur и Kate  \n",
    "John и Kira  \n",
    "Peter и Liza  \n",
    "Richard и Trisha  "
   ]
  },
  {
   "cell_type": "markdown",
   "metadata": {},
   "source": [
    "**Внимание! Если количество людей в списках будет не совпадать, то мы никого знакомить не будет и выведем пользователю предупреждение, что кто-то может остаться без пары!**"
   ]
  },
  {
   "cell_type": "code",
   "execution_count": 27,
   "metadata": {},
   "outputs": [
    {
     "name": "stdout",
     "output_type": "stream",
     "text": [
      "Кто-то может остаться без пары, знакомить не будем, ждем кандидатов для создания пары\n"
     ]
    }
   ],
   "source": [
    "boys = ['Peter', 'Alex', 'John', 'Arthur', 'Richard']\n",
    "girls = ['Kate', 'Liza', 'Kira', 'Emma', 'Trisha', 'Olga']\n",
    "if len(boys) != len(girls):\n",
    "    print('Кто-то может остаться без пары, знакомить не будем, ждем кандидатов для создания пары')\n",
    "else:\n",
    "    sort_b = sorted(boys)\n",
    "    sort_g = sorted(girls)\n",
    "    couples = list(zip(sort_b,sort_g))\n",
    "    print('Идеальные пары:', sep='')\n",
    "    print()\n",
    "    for couple in couples:\n",
    "        print(couple[0], 'и', couple[1])\n",
    "    print()\n",
    "    print('Совет да любовь))')\n",
    "\n",
    "   "
   ]
  },
  {
   "cell_type": "markdown",
   "metadata": {},
   "source": [
    "**Задача 3**. У нас есть список, содержащий информацию о среднедневной температуре в Фаренгейтах за недельный период по странам.\n",
    "Необходимо написать код, который рассчитает среднюю температуру за неделю в Цельсиях для каждой страны."
   ]
  },
  {
   "cell_type": "code",
   "execution_count": 2,
   "metadata": {},
   "outputs": [],
   "source": [
    "countries_temperature = [\n",
    " ['Thailand', [75.2, 77, 78.8, 73.4, 68, 75.2,77]],\n",
    " ['Germany', [57.2, 55.4, 59, 59, 53.6, 55.4, 57.2]],\n",
    " ['Russia', [35.6, 37.4, 39.2, 41, 42.8, 39.2, 35.6]],\n",
    " ['Poland', [50, 50, 53.6, 57.2, 55.4, 55.4, 51.8]],\n",
    " ['Belarus', [75.2, 77, 78.8, 73.4, 68, 75.2,77]],\n",
    " ['Armenua', [57.2, 55.4, 59, 59, 53.6, 55.4, 57.2]],\n",
    " ['Georgia', [35.6, 37.4, 39.2, 41, 42.8, 39.2, 35.6]],\n",
    " ['China', [50, 50, 53.6, 57.2, 55.4, 55.4, 51.8]],\n",
    "]"
   ]
  },
  {
   "cell_type": "code",
   "execution_count": 3,
   "metadata": {},
   "outputs": [
    {
     "name": "stdout",
     "output_type": "stream",
     "text": [
      "Thailand 23.86\n",
      "Germany 13.71\n",
      "Russia 3.71\n",
      "Poland 11.86\n",
      "Belarus 23.86\n",
      "Armenua 13.71\n",
      "Georgia 3.71\n",
      "China 11.86\n"
     ]
    }
   ],
   "source": [
    "for country in countries_temperature:\n",
    "    for temp in country[1]:\n",
    "        average_f = sum(country[1])/len(country[1])\n",
    "        average_c = round((average_f - 32)*5/9, 2)\n",
    "    print(country[0] +' ' + str(average_c))\n",
    "        "
   ]
  },
  {
   "cell_type": "code",
   "execution_count": null,
   "metadata": {},
   "outputs": [],
   "source": []
  },
  {
   "cell_type": "markdown",
   "metadata": {},
   "source": [
    "**Задача 4.** Дан поток логов по количеству просмотренных страниц для каждого пользователя. Список отсортирован по ID пользователя. Вам необходимо написать алгоритм, который считает среднее значение просмотров на пользователя. \n",
    "Т. е. надо посчитать отношение суммы всех просмотров к количеству уникальных пользователей."
   ]
  },
  {
   "cell_type": "code",
   "execution_count": 4,
   "metadata": {},
   "outputs": [],
   "source": [
    "stream = [\n",
    "    '2018-01-01,user1,3',\n",
    "    '2018-01-07,user1,4',\n",
    "    '2018-03-29,user1,1',\n",
    "    '2018-04-04,user2,18',\n",
    "    '2018-01-05,user2,7',\n",
    "    '2018-06-14,user3,4',\n",
    "    '2018-07-02,user3,10',\n",
    "    '2018-03-21,user3,45',\n",
    "    '2018-03-22,user4,4',\n",
    "    '2018-04-22,user4,8',\n",
    "    '2018-05-03,user4,9',\n",
    "    '2018-05-11,user4,11',\n",
    "]"
   ]
  },
  {
   "cell_type": "code",
   "execution_count": 5,
   "metadata": {},
   "outputs": [
    {
     "name": "stdout",
     "output_type": "stream",
     "text": [
      "общее количество просмотров всех пользователей:  124\n",
      "реестр уникальных пользователей:  ['user1', 'user2', 'user3', 'user4']\n",
      "количество уникальных пользователей:  4\n",
      "среднее значение просмотров на пользователя:  31\n"
     ]
    }
   ],
   "source": [
    "user_logs = []\n",
    "user_view = []\n",
    "for logs in stream:\n",
    "    logs = logs.split(',')\n",
    "    user_logs.append(logs[1])\n",
    "    user_view.append(logs[2])\n",
    "view_int = []\n",
    "for views in user_view:\n",
    "    views = int(views)\n",
    "    view_int.append(views)\n",
    "print('общее количество просмотров всех пользователей: ', str(sum(view_int)))\n",
    "user_list = []\n",
    "for user in user_logs:\n",
    "    if not user in user_list:\n",
    "        user_list.append(user)\n",
    "print('реестр уникальных пользователей: ', str(user_list))\n",
    "print('количество уникальных пользователей: ', str(len(user_list)))\n",
    "print('среднее значение просмотров на пользователя: ', str(round((sum(view_int))/(len(user_list)))))"
   ]
  },
  {
   "cell_type": "markdown",
   "metadata": {},
   "source": [
    "**Задача 5**. Дана статистика рекламных кампаний по дням. Напишите алгоритм, который по паре дата-кампания ищет значение численного столбца. \n",
    "Т. е. для даты '2018-01-01' и 'google' нужно получить число 25. \n",
    "Считайте, что все комбинации дата-кампания уникальны."
   ]
  },
  {
   "cell_type": "code",
   "execution_count": 6,
   "metadata": {},
   "outputs": [],
   "source": [
    "stats = [\n",
    "    ['2018-01-01', 'google', 25],\n",
    "    ['2018-01-01', 'yandex', 65],\n",
    "    ['2018-01-01', 'market', 89],\n",
    "    ['2018-01-02', 'google', 574],\n",
    "    ['2018-01-02', 'yandex', 249],\n",
    "    ['2018-01-02', 'market', 994],\n",
    "    ['2018-01-03', 'google', 1843],\n",
    "    ['2018-01-03', 'yandex', 1327],\n",
    "    ['2018-01-03', 'market', 1764],\n",
    "]"
   ]
  },
  {
   "cell_type": "code",
   "execution_count": 8,
   "metadata": {},
   "outputs": [
    {
     "name": "stdout",
     "output_type": "stream",
     "text": [
      "ВВедите дату: 2018-01-01\n",
      "Введите компанию: yandex\n",
      "Искомое значение:  65\n"
     ]
    }
   ],
   "source": [
    "date = input('ВВедите дату: ')\n",
    "company= input('Введите компанию: ')\n",
    "for stat in stats:\n",
    "    if date in stat and company in stat:\n",
    "        print('Искомое значение: ', stat[2])                "
   ]
  },
  {
   "cell_type": "markdown",
   "metadata": {},
   "source": [
    "**Задача 6**. Дан список вида:"
   ]
  },
  {
   "cell_type": "code",
   "execution_count": 9,
   "metadata": {},
   "outputs": [],
   "source": [
    "data = [\n",
    "    [13, 25, 23, 34, 12, 12, 25, 23],\n",
    "    [45, 32, 44, 47, 12, 12, 25, 23],\n",
    "    [12, 33, 23, 95, 12, 12, 25, 23],\n",
    "    [13, 53, 34, 35, 12, 12, 25, 23],\n",
    "    [12, 33, 23, 9, 12, 125, 25, 23],\n",
    "    [13, 53, 34, 35, 12, 12, 25, 23],\n",
    "    [12, 33, 23, 9, 12, 125, 25, 23],\n",
    "    [13, 53, 34, 35, 12, 12, 25, 23],\n",
    "]"
   ]
  },
  {
   "cell_type": "markdown",
   "metadata": {},
   "source": [
    "Напишите код, который будет вычислять сумму элементов на диагонали. Т. е. 13+32+23+35.  \n",
    "Список может быть любой длины, но всегда является \"квадратным\" (количество элементов во вложенных списках равно их количеству)."
   ]
  },
  {
   "cell_type": "code",
   "execution_count": 10,
   "metadata": {},
   "outputs": [
    {
     "name": "stdout",
     "output_type": "stream",
     "text": [
      "Сумма элементов по диагонали:  175\n"
     ]
    }
   ],
   "source": [
    "diagonal = []\n",
    "for i,row in enumerate(data):\n",
    "    for j,num in enumerate(row):\n",
    "        if i == j:\n",
    "            diagonal.append(num)\n",
    "print('Сумма элементов по диагонали: ', str(sum(diagonal)))"
   ]
  },
  {
   "cell_type": "code",
   "execution_count": null,
   "metadata": {},
   "outputs": [],
   "source": []
  }
 ],
 "metadata": {
  "kernelspec": {
   "display_name": "Python 3",
   "language": "python",
   "name": "python3"
  },
  "language_info": {
   "codemirror_mode": {
    "name": "ipython",
    "version": 3
   },
   "file_extension": ".py",
   "mimetype": "text/x-python",
   "name": "python",
   "nbconvert_exporter": "python",
   "pygments_lexer": "ipython3",
   "version": "3.7.6"
  }
 },
 "nbformat": 4,
 "nbformat_minor": 2
}
