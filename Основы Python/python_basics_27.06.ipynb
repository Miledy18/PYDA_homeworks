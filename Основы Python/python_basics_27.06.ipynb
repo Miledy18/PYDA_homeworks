{
 "cells": [
  {
   "cell_type": "markdown",
   "metadata": {},
   "source": [
    "**Задание 1**. Даны 2 строки: *long_phrase* и *short_phrase*. \n",
    "Напишите код, который проверяет действительно ли длинная фраза *long_phrase* длиннее короткой *short_phrase*. И выводит *True* или *False* в зависимости от результата сравнения."
   ]
  },
  {
   "cell_type": "code",
   "execution_count": null,
   "metadata": {},
   "outputs": [],
   "source": [
    "long_phrase = 'Насколько проще было бы писать программы, если бы не заказчики'\n",
    "short_phrase = '640Кб должно хватить для любых задач. Билл Гейтс (по легенде)'"
   ]
  },
  {
   "cell_type": "code",
   "execution_count": 23,
   "metadata": {},
   "outputs": [
    {
     "name": "stdout",
     "output_type": "stream",
     "text": [
      "Equal\n"
     ]
    }
   ],
   "source": [
    "long_phrase = 'мир'\n",
    "short_phrase = 'дар'\n",
    "if len (long_phrase) > len (short_phrase):\n",
    "    print ('True')\n",
    "elif len (long_phrase) < len (short_phrase):\n",
    "    print ('False')\n",
    "else:\n",
    "    print ('Equal')"
   ]
  },
  {
   "cell_type": "markdown",
   "metadata": {},
   "source": [
    "**Задание 2**. Дано значение объема файла в байтах (*в мегабайте 2^20 байт*). Напишите перевод этого значения в мегабайты в формате: \"*Объем файла равен 213.68Mb*\"."
   ]
  },
  {
   "cell_type": "code",
   "execution_count": 26,
   "metadata": {},
   "outputs": [
    {
     "name": "stdout",
     "output_type": "stream",
     "text": [
      "Введите объем файла в байтах: \n",
      "10000000\n",
      "Объем вашего файла 10000000 байт\n",
      "Объем файла переведен в Мбайты и составляет: 9.54 Мбайт\n"
     ]
    }
   ],
   "source": [
    "print ('Введите объем файла в байтах: ')\n",
    "file_value = int (input ())\n",
    "print ('Объем вашего файла ' + str (file_value) +' байт' )\n",
    "value_con = file_value / 2**20\n",
    "value_con_r = round (value_con, 2)\n",
    "print ('Объем файла переведен в Мбайты и составляет: ' + str (value_con_r) + ' Мбайт')"
   ]
  },
  {
   "cell_type": "markdown",
   "metadata": {},
   "source": [
    "**Задание 3**. Разработать приложение для определения знака зодиака по дате рождения. Пример:\n",
    "\n",
    "Введите месяц: март\n",
    "\n",
    "Введите число: 6\n",
    "\n",
    "Вывод:\n",
    "Рыбы"
   ]
  },
  {
   "cell_type": "code",
   "execution_count": 6,
   "metadata": {},
   "outputs": [
    {
     "name": "stdout",
     "output_type": "stream",
     "text": [
      "Введите месяц вашего рождения: \n",
      "июнь\n",
      "Введите число вашего рождения: \n",
      "18\n",
      "Близнецы\n",
      "Вперед к гороскопу!\n"
     ]
    }
   ],
   "source": [
    "print ('Введите месяц вашего рождения: ')\n",
    "month_user = input ()\n",
    "if month_user == 'январь' or month_user == '01' or month_user == '1':\n",
    "    month_user = 1\n",
    "elif month_user == 'февраль' or month_user == '02' or month_user == '2':\n",
    "    month_user = 2\n",
    "elif month_user == 'март' or month_user == '03' or month_user == '3':\n",
    "    month_user = 3\n",
    "elif month_user == 'апрель' or month_user == '04' or month_user == '4':\n",
    "    month_user = 4\n",
    "elif month_user == 'май' or month_user == '05' or month_user == '5':\n",
    "    month_user = 5\n",
    "elif month_user == 'июнь' or month_user == '06' or month_user == '6':\n",
    "    month_user = 6\n",
    "elif month_user == 'июль' or month_user == '07' or month_user == '7':\n",
    "    month_user = 7\n",
    "elif month_user == 'август' or month_user == '08' or month_user == '8':\n",
    "    month_user = 8\n",
    "elif month_user == 'сентябрь' or month_user == '09' or month_user == '9':\n",
    "    month_user = 9\n",
    "elif month_user == 'октябрь' or month_user == '10':\n",
    "    month_user = 10\n",
    "elif month_user == 'ноябрь' or month_user == '11':\n",
    "    month_user = 11\n",
    "elif month_user == 'декабрь' or month_user == '12':\n",
    "    month_user = 12\n",
    "else:\n",
    "    print ('Ошибка! Попробуйте снова! Введите наименование месяца кириллицей или его порядковый номер от 1 до 12')\n",
    "print ('Введите число вашего рождения: ')\n",
    "data_user = int (input ())\n",
    "if (data_user < 22 and month_user == 1) or (data_user >= 22 and data_user < 31 and month_user == 12) :\n",
    "    print ('Козерог')\n",
    "elif (data_user < 22 and month_user == 2) or (data_user >= 22 and data_user < 31 and month_user == 1) :\n",
    "    print ('Водолей') \n",
    "elif (data_user < 22 and month_user == 3) or (data_user >= 22 and data_user < 29 and month_user == 2) :\n",
    "    print ('Рыбы')\n",
    "elif (data_user < 22 and month_user == 4) or (data_user >= 22 and data_user < 31 and month_user == 3) :\n",
    "    print ('Овен')\n",
    "elif (data_user < 22 and month_user == 5) or (data_user >= 22 and data_user < 30 and month_user == 4) :\n",
    "    print ('Телец')\n",
    "elif (data_user < 22 and month_user == 6) or (data_user >= 22 and data_user < 31 and month_user == 5) :\n",
    "    print ('Близнецы')\n",
    "elif (data_user < 22 and month_user == 7) or (data_user >= 22 and data_user < 30 and month_user == 6) :\n",
    "    print ('Рак')\n",
    "elif (data_user < 22 and month_user == 8) or (data_user >= 22 and data_user < 31 and month_user == 7) :\n",
    "    print ('Лев')\n",
    "elif (data_user < 22 and month_user == 9) or (data_user >= 22 and data_user < 31 and month_user == 8) :\n",
    "    print ('Дева')\n",
    "elif (data_user < 22 and month_user == 10) or (data_user >= 22 and data_user < 30 and month_user == 9) :\n",
    "    print ('Весы')\n",
    "elif (data_user < 22 and month_user == 11) or (data_user >= 22 and data_user < 31 and month_user == 10) :\n",
    "    print ('Скорпион')\n",
    "elif (data_user < 22 and month_user == 12) or (data_user >= 22 and data_user < 30 and month_user == 11) :\n",
    "    print ('Стрелец')\n",
    "else: \n",
    "    print ('Ошибка! Попробуйте снова! Наверняка, дата вашего рождения слишком поздняя или ввод некорректен')\n",
    "print ('Вперед к гороскопу!')"
   ]
  },
  {
   "cell_type": "markdown",
   "metadata": {},
   "source": []
  },
  {
   "cell_type": "markdown",
   "metadata": {},
   "source": [
    "**Задание 4**. Нужно разработать приложение для финансового планирования.\n",
    "Приложение учитывает сколько уходит на ипотеку, \"на жизнь\" и сколько нужно отложить на пенсию.\n",
    "Пользователь вводит:\n",
    "- заработанную плату в месяц.\n",
    "- сколько процентов от ЗП уходит на ипотеку.\n",
    "- сколько процентов от ЗП уходит \"на жизнь\".\n",
    "- сколько раз приходит премия в год.\n",
    "\n",
    "Остальная часть заработанной платы откладывается на пенсию.\n",
    "\n",
    "Также пользователю приходит премия в размере зарплаты, от которой половина уходит на отпуск, а вторая половина откладывается.\n",
    "\n",
    "Программа должна учитывать сколько премий было в год.\n",
    "\n",
    "Нужно вывести сколько денег тратит пользователь на ипотеку и сколько он накопит за год.\n",
    "\n",
    "Пример:\n",
    "\n",
    "Введите заработанную плату в месяц: 100000\n",
    "\n",
    "Введите сколько процентов уходит на ипотеку: 30\n",
    "\n",
    "Введите сколько процентов уходит на жизнь: 50\n",
    "\n",
    "Введите количество премий за год: 2\n",
    "\n",
    "Вывод:\n",
    "На ипотеку было потрачено: 360000 рублей\n",
    "Было накоплено: 340000 рублей"
   ]
  },
  {
   "cell_type": "code",
   "execution_count": 3,
   "metadata": {},
   "outputs": [
    {
     "name": "stdout",
     "output_type": "stream",
     "text": [
      "Введите сумму зар.платы в месяц, в рублях без пробелов: \n",
      "30000\n",
      "Введите сколько процентов в месяц уходит на ипотеку, в процентах: \n",
      "50\n",
      "Введите сколько процентов в месяц уходит на жизнь, в процентах: \n",
      "120\n",
      "Или вы ошиблись или ваши дела плохи...вы сможете накопить только за счет бонусов\n",
      "Введите количество премий за год: \n",
      "12\n",
      "Результаты\n",
      "Годовые расходы на ипотеку составили: 180000 рублей\n",
      "Годовые накопления составили: -72000.0 рублей\n",
      "Вам определенно нужно что-то менять, - может отказаться от отпуска?...Вы в долгах...Удачи!\n",
      "Конец программы\n"
     ]
    }
   ],
   "source": [
    "print ('Введите сумму зар.платы в месяц, в рублях без пробелов: ')\n",
    "income = round (float (input ()))\n",
    "print ('Введите сколько процентов в месяц уходит на ипотеку, в процентах: ')\n",
    "mortage = round (float (input ()))\n",
    "if mortage > 100:\n",
    "    print ('Или вы ошиблись или ваши дела плохи...вы сможете накопить только за счет бонусов')\n",
    "print ('Введите сколько процентов в месяц уходит на жизнь, в процентах: ')\n",
    "life = round (float (input ()))\n",
    "if life > 100:\n",
    "    print ('Или вы ошиблись или ваши дела плохи...вы сможете накопить только за счет бонусов')\n",
    "print ('Введите количество премий за год: ')\n",
    "bonus_quantity = input ()\n",
    "bonus_summ = income\n",
    "mortage_share = int (mortage / 100 * income)\n",
    "life_share = int (life / 100 * income)\n",
    "year_regular_capital = (income - mortage_share - life_share) * 12\n",
    "year_bonus_capital = int(bonus_summ) * int (bonus_quantity) / 2\n",
    "whole_capital = year_regular_capital + year_bonus_capital\n",
    "year_mortage_share = mortage_share * 12\n",
    "print ('Результаты')\n",
    "print ('Годовые расходы на ипотеку составили: ' + str (year_mortage_share) + ' рублей')\n",
    "print ('Годовые накопления составили: ' + str (whole_capital) + ' рублей')\n",
    "if whole_capital > 0:\n",
    "    print ('Вы двигаетесь в светлое будущее!')\n",
    "else:\n",
    "    print ('Вам определенно нужно что-то менять, - может отказаться от отпуска?...Вы в долгах...Удачи!')\n",
    "print ('Конец программы')\n"
   ]
  },
  {
   "cell_type": "markdown",
   "metadata": {},
   "source": [
    "# "
   ]
  }
 ],
 "metadata": {
  "kernelspec": {
   "display_name": "Python 3",
   "language": "python",
   "name": "python3"
  },
  "language_info": {
   "codemirror_mode": {
    "name": "ipython",
    "version": 3
   },
   "file_extension": ".py",
   "mimetype": "text/x-python",
   "name": "python",
   "nbconvert_exporter": "python",
   "pygments_lexer": "ipython3",
   "version": "3.7.6"
  }
 },
 "nbformat": 4,
 "nbformat_minor": 2
}
